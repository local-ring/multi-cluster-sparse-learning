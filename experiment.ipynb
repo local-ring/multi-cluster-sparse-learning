{
 "cells": [
  {
   "cell_type": "code",
   "execution_count": null,
   "id": "227e1d2c",
   "metadata": {},
   "outputs": [],
   "source": [
    "import numpy as np\n",
    "\n",
    "\n",
    "\n",
    "class RandomEnsembleMultiClass:\n",
    "    def __init__(self, n, d, k, gamma, h_total, h_selected, h_non_selected):\n",
    "        self.n, self.d, self.k = n, d, k\n",
    "        self.gamma = gamma\n",
    "        self.h_total, self.h_selected, self.h_non_selected = h_total, h_selected, h_non_selected\n",
    "        assert h_total == h_selected + h_non_selected, \"Total clusters must equal the sum of selected and non-selected clusters.\"  \n",
    "\n",
    "    def _generate_clusters(self):\n",
    "        # divide the total number of d\n",
    "    \n",
    "    def _generate_graph(self):   \n",
    "\n",
    "    def _generate_w(self):\n",
    "        pass\n",
    "\n",
    "    def _generate_X(self):\n",
    "        pass\n",
    "\n",
    "    def _generate_y(self, X, w):\n",
    "        signal = X @ w\n",
    "        noise = np.random.normal(0, self.gamma, size=signal.shape)                 \n",
    "        y = signal + noise\n",
    "        return y\n",
    "    \n",
    "    def _generate_data(self):\n",
    "        L, A = self._generate_graph()\n",
    "        w = self._generate_w()\n",
    "        X = self._generate_X()\n",
    "        y = self._generate_y(X, w)\n",
    "        return L, A, X, y, w\n",
    "    \n"
   ]
  }
 ],
 "metadata": {
  "language_info": {
   "name": "python"
  }
 },
 "nbformat": 4,
 "nbformat_minor": 5
}
